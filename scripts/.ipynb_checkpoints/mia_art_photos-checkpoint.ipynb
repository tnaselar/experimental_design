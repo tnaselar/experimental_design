{
 "cells": [
  {
   "cell_type": "markdown",
   "metadata": {},
   "source": [
    "### Minneapolis Inst. of Arts collection"
   ]
  },
  {
   "cell_type": "code",
   "execution_count": 1,
   "metadata": {
    "collapsed": false
   },
   "outputs": [
    {
     "name": "stdout",
     "output_type": "stream",
     "text": [
      "Populating the interactive namespace from numpy and matplotlib\n"
     ]
    }
   ],
   "source": [
    "from glob import glob\n",
    "from scipy import ndimage as ndi\n",
    "import scipy.fftpack \n",
    "from skimage import data\n",
    "from skimage.util import img_as_float\n",
    "from skimage.filter import gabor_kernel\n",
    "from PIL import Image\n",
    "from object_parsing.src.image_objects import make_a_blank\n",
    "import numpy as np\n",
    "from os import path\n",
    "from experimental_design.src.experiments import make_design_matrix, fmri_experiment\n",
    "%pylab inline"
   ]
  },
  {
   "cell_type": "markdown",
   "metadata": {},
   "source": [
    "#### parameters"
   ]
  },
  {
   "cell_type": "code",
   "execution_count": 2,
   "metadata": {
    "collapsed": false
   },
   "outputs": [
    {
     "name": "stdout",
     "output_type": "stream",
     "text": [
      "pixels per deg. 34.751\n",
      "24 unique images will be shown 2 times per run\n",
      "average run duration (min): 3.280\n",
      "total time across runs (min): 26.240, total reps of each image across runs: 16\n",
      "given a TR of 1.500, movie frame rate should be (Hz): 0.6667\n"
     ]
    }
   ],
   "source": [
    "savedir = '/Users/tnaselar/Data/Presentation/predictive.coding.match.nonmatch/art/'\n",
    "\n",
    "##image parameters\n",
    "STIMULUS_PIXELS = 768\n",
    "VIEWING_ANGLE = 22.1 ##edge-to-edge of 768pix stim\n",
    "PIXELS_PER_DEGREE = STIMULUS_PIXELS/VIEWING_ANGLE\n",
    "print 'pixels per deg. %0.3f' %(PIXELS_PER_DEGREE)\n",
    "IMAGES = 24\n",
    "isi_luminance = 137\n",
    "\n",
    "##timing parameters\n",
    "PHASE_CYCLES_PER_TR = 1 ##number of frames per tr\n",
    "TR = 1.5\n",
    "LOOPS = 2 ##number of times each grating shown in a run.\n",
    "ISI_LAM = 0.4\n",
    "FADE_IN_FRAMES = 8\n",
    "FADE_OUT_FRAMES = 8\n",
    "RUNS = 8 ##\n",
    "RUN_DURATION = ((IMAGES*(2+ISI_LAM))*LOOPS + FADE_IN_FRAMES+FADE_OUT_FRAMES)*TR/60.\n",
    "print '%d unique images will be shown %d times per run' %(IMAGES,LOOPS)\n",
    "print 'average run duration (min): %0.3f' %(RUN_DURATION)\n",
    "print 'total time across runs (min): %0.3f, total reps of each image across runs: %d' %(RUN_DURATION*RUNS, LOOPS*RUNS)\n",
    "print 'given a TR of %0.3f, movie frame rate should be (Hz): %0.4f' %(TR, PHASE_CYCLES_PER_TR/TR)"
   ]
  },
  {
   "cell_type": "markdown",
   "metadata": {},
   "source": [
    "####stimuli"
   ]
  },
  {
   "cell_type": "code",
   "execution_count": 3,
   "metadata": {
    "collapsed": false
   },
   "outputs": [],
   "source": [
    "pics = glob('/Users/tnaselar/Data/Presentation/mia.art/pictures/*.png')\n",
    "np.random.shuffle(pics)\n",
    "pics = pics[:IMAGES]\n",
    "for pic_name in pics:\n",
    "    img = Image.open(pic_name).resize((STIMULUS_PIXELS, STIMULUS_PIXELS))\n",
    "    pic_name = path.basename(pic_name)\n",
    "    img.save(path.join(savedir,pic_name),'png')"
   ]
  },
  {
   "cell_type": "code",
   "execution_count": 4,
   "metadata": {
    "collapsed": false
   },
   "outputs": [],
   "source": [
    "isi_screen = make_a_blank(STIMULUS_PIXELS,isi_luminance,'RGB')\n",
    "isi_screen.save(path.join(savedir,'isi_screen.png'),'png')"
   ]
  },
  {
   "cell_type": "markdown",
   "metadata": {},
   "source": [
    "####experimental design"
   ]
  },
  {
   "cell_type": "code",
   "execution_count": 5,
   "metadata": {
    "collapsed": false
   },
   "outputs": [
    {
     "data": {
      "text/plain": [
       "[['isi_screen.png'],\n",
       " ['100525_mia341_9487.png'],\n",
       " ['100624_mia341_9510.png'],\n",
       " ['isi_screen.png'],\n",
       " ['mia_1005776.png'],\n",
       " ['mia_10256b.png'],\n",
       " ['mia_11424b.png'],\n",
       " ['mia_2003711.png'],\n",
       " ['mia_27b.png'],\n",
       " ['mia_434b.png'],\n",
       " ['mia_48264a.png'],\n",
       " ['mia_5002069.png'],\n",
       " ['mia_5002155.png'],\n",
       " ['mia_5008467.png'],\n",
       " ['mia_5009852.png'],\n",
       " ['mia_5012616.png'],\n",
       " ['mia_5018721.png'],\n",
       " ['mia_5019110.png'],\n",
       " ['mia_5021260.png'],\n",
       " ['mia_5023731.png'],\n",
       " ['mia_6007261.png'],\n",
       " ['mia_6216b.png'],\n",
       " ['mia_7785b.png'],\n",
       " ['mia_7831b.png'],\n",
       " ['PCD19990121_1178_IMG0042.png'],\n",
       " ['PCD19990622_0051_IMG0009.png']]"
      ]
     },
     "execution_count": 5,
     "metadata": {},
     "output_type": "execute_result"
    }
   ],
   "source": [
    "def frame_name(savedir,run,filetype='.png'):\n",
    "    return path.join(savedir,'mia_art_run_%0.2d.%s' %(run,filetype))\n",
    "\n",
    "stim_list = []\n",
    "for ss in map(path.basename, glob(path.join(savedir,'*.png'))):\n",
    "    stim_list.append([ss])\n",
    "stim_list.insert(0,['isi_screen.png']) ##<<blank stim always goes first in stim_list\n",
    "stim_list"
   ]
  },
  {
   "cell_type": "code",
   "execution_count": 6,
   "metadata": {
    "collapsed": false
   },
   "outputs": [
    {
     "name": "stdout",
     "output_type": "stream",
     "text": [
      "length of experiment: 136 states and 204.000000 seconds = 3.400000 mintues\n",
      "length of experiment: 128 states and 192.000000 seconds = 3.200000 mintues\n",
      "length of experiment: 136 states and 204.000000 seconds = 3.400000 mintues\n",
      "length of experiment: 131 states and 196.500000 seconds = 3.275000 mintues\n",
      "length of experiment: 131 states and 196.500000 seconds = 3.275000 mintues\n",
      "length of experiment: 130 states and 195.000000 seconds = 3.250000 mintues\n",
      "length of experiment: 134 states and 201.000000 seconds = 3.350000 mintues\n",
      "length of experiment: 127 states and 190.500000 seconds = 3.175000 mintues\n"
     ]
    }
   ],
   "source": [
    "for rr in range(RUNS):\n",
    "    dm = make_design_matrix(IMAGES,LOOPS,blank_states=[FADE_IN_FRAMES,ISI_LAM,FADE_OUT_FRAMES],seconds_per_state=TR)\n",
    "    one_run = fmri_experiment(dm,stim_list,seconds_per_state=TR,vols_per_state = 1)\n",
    "    one_run.print_frame_list(frame_name(savedir,rr,filetype='txt'))"
   ]
  },
  {
   "cell_type": "code",
   "execution_count": null,
   "metadata": {
    "collapsed": true
   },
   "outputs": [],
   "source": []
  }
 ],
 "metadata": {
  "kernelspec": {
   "display_name": "Python 2",
   "language": "python",
   "name": "python2"
  },
  "language_info": {
   "codemirror_mode": {
    "name": "ipython",
    "version": 2
   },
   "file_extension": ".py",
   "mimetype": "text/x-python",
   "name": "python",
   "nbconvert_exporter": "python",
   "pygments_lexer": "ipython2",
   "version": "2.7.11"
  }
 },
 "nbformat": 4,
 "nbformat_minor": 0
}
