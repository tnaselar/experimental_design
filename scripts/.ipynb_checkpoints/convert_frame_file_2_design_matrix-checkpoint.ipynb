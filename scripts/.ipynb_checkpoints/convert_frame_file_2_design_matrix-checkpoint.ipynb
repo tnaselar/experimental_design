{
 "metadata": {
  "name": ""
 },
 "nbformat": 3,
 "nbformat_minor": 0,
 "worksheets": [
  {
   "cells": [
    {
     "cell_type": "code",
     "collapsed": false,
     "input": [
      "%load_ext autoreload\n",
      "%autoreload 2\n",
      "import numpy as np\n",
      "from experimental_design.src.experiments import fmri_experiment as fme\n",
      "from scipy.io import savemat, loadmat\n",
      "%pylab inline"
     ],
     "language": "python",
     "metadata": {},
     "outputs": [
      {
       "output_type": "stream",
       "stream": "stdout",
       "text": [
        "The autoreload extension is already loaded. To reload it, use:\n",
        "  %reload_ext autoreload\n",
        "Populating the interactive namespace from numpy and matplotlib"
       ]
      },
      {
       "output_type": "stream",
       "stream": "stdout",
       "text": [
        "\n"
       ]
      },
      {
       "output_type": "stream",
       "stream": "stderr",
       "text": [
        "WARNING: pylab import has clobbered these variables: ['f']\n",
        "`%pylab --no-import-all` prevents importing * from pylab and numpy\n"
       ]
      }
     ],
     "prompt_number": 38
    },
    {
     "cell_type": "code",
     "collapsed": false,
     "input": [
      "##experimental parameters\n",
      "TR = 2\n",
      "show_hz = 10"
     ],
     "language": "python",
     "metadata": {},
     "outputs": [],
     "prompt_number": 29
    },
    {
     "cell_type": "code",
     "collapsed": false,
     "input": [
      "base_location= '/musc.repo/mri/7T.cmrr/Presentation/Naselaris.imagery.experiments.presented.on.August.13-15@CMRR/single.object.boxes/pics/single.object.400/'\n",
      "save_location = '/musc.repo/scratch/'"
     ],
     "language": "python",
     "metadata": {},
     "outputs": [],
     "prompt_number": 36
    },
    {
     "cell_type": "code",
     "collapsed": false,
     "input": [
      "run_paths = ['imagery_002/frame_files/']\n",
      "frames_per_TR = TR*show_hz\n",
      "blank_frame = 'rest_frame_0.png'\n",
      "run_count = 1\n",
      "for rr in run_paths:\n",
      "    pcp_frame_file = base_location+rr+'pcp_frame_list.txt'\n",
      "    img_frame_file = base_location+rr+'img_frame_list.txt'\n",
      "\n",
      "    with open(pcp_frame_file) as f:\n",
      "        pcp_frames = f.readlines()\n",
      "    pcp_frames = map(lambda s: s.strip(), pcp_frames) ##strips the \\n off the end of each string\n",
      "    total_pcp_frames = len(pcp_frames)\n",
      "    \n",
      "    with open(img_frame_file) as f:\n",
      "        img_frames = f.readlines()\n",
      "    img_frames = map(lambda s: s.strip(), pcp_frames)\n",
      "    total_img_frames = len(img_frames)\n",
      "    \n",
      "    ##determine the frame associated with each volume\n",
      "    total_number_of_volumes = len(range(0, total_pcp_frames, frames_per_TR)) \n",
      "    print total_number_of_volumes ##<this is what I remember it should be\n",
      "\n",
      "    ##unique list of frames, ordered by first appearance\n",
      "    unique_frames = []\n",
      "    for ff in pcp_frames:\n",
      "        if ff not in unique_frames:\n",
      "            unique_frames.append(ff)\n",
      "    #unique_frames = list(np.unique(pcp_frames))\n",
      "    unique_frames.pop(unique_frames.index(blank_frame)) ##pop the blank frame \n",
      "    number_of_unique_frames = len(unique_frames)\n",
      "\n",
      "    ##build the design matrix\n",
      "    design_matrix = np.zeros((number_of_unique_frames, total_number_of_volumes)) \n",
      "    cnt = 0\n",
      "    for ii in range(0, total_pcp_frames, frames_per_TR):\n",
      "        if pcp_frames[ii] == blank_frame:\n",
      "            cnt += 1\n",
      "            continue\n",
      "        else:\n",
      "            jj = unique_frames.index(pcp_frames[ii])\n",
      "            design_matrix[jj,cnt] = 1\n",
      "            cnt += 1\n",
      "    savemat(save_location+'run_%0.2d_design_matrix.mat' %(run_count), mdict = {'design_matrix': design_matrix})\n",
      "    stim_list = [[ss]*20 for ss in [blank_frame]+unique_frames]\n",
      "    test_exp = fme(design_matrix, stim_list , 2, 1)\n",
      "    test_exp.print_frame_list(save_location+'run_%0.2d_frame_list.txt' %(run_count))\n",
      "    test_exp.save_design_matrix(save_location+'run_%0.2d_design_matrix' %(run_count))\n"
     ],
     "language": "python",
     "metadata": {},
     "outputs": [
      {
       "output_type": "stream",
       "stream": "stdout",
       "text": [
        "302\n"
       ]
      }
     ],
     "prompt_number": 54
    }
   ],
   "metadata": {}
  }
 ]
}