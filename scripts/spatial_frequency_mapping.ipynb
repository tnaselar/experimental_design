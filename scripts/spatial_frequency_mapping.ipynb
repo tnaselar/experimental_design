{
 "cells": [
  {
   "cell_type": "code",
   "execution_count": 1,
   "metadata": {
    "collapsed": false
   },
   "outputs": [
    {
     "name": "stdout",
     "output_type": "stream",
     "text": [
      "Populating the interactive namespace from numpy and matplotlib\n"
     ]
    }
   ],
   "source": [
    "from scipy import ndimage as ndi\n",
    "import scipy.fftpack \n",
    "from skimage import data\n",
    "from skimage.util import img_as_float\n",
    "from skimage.filter import gabor_kernel\n",
    "from PIL import Image\n",
    "from object_parsing.src.image_objects import make_a_blank\n",
    "import numpy as np\n",
    "from experimental_design.src.experiments import make_design_matrix, fmri_experiment\n",
    "%pylab inline"
   ]
  },
  {
   "cell_type": "markdown",
   "metadata": {},
   "source": [
    "###Parameters"
   ]
  },
  {
   "cell_type": "code",
   "execution_count": 2,
   "metadata": {
    "collapsed": false
   },
   "outputs": [
    {
     "name": "stdout",
     "output_type": "stream",
     "text": [
      "pixels per deg. 34.751\n",
      "orientations (deg): [  0  45  90 135]\n",
      "freqs: (cyc/deg): [ 0.01        0.0224787   0.05052918  0.11358302  0.25531984  0.57392575\n",
      "  1.29011034  2.9       ]\n",
      "32 unique gratings will be shown 2 times per run\n",
      "average run duration (min): 4.090\n",
      "total time across runs (min): 16.360, total reps of each grating across runs: 8\n",
      "given a TR of 1.500, movie frame rate should be (Hz): 4.0000\n"
     ]
    }
   ],
   "source": [
    "savedir = '/Users/tnaselar/Data/Presentation/predictive.coding.match.nonmatch/spatial_frequency/'\n",
    "\n",
    "##image parameters\n",
    "STIMULUS_PIXELS = 768\n",
    "VIEWING_ANGLE = 22.1 ##edge-to-edge of 768pix stim\n",
    "PIXELS_PER_DEGREE = STIMULUS_PIXELS/VIEWING_ANGLE\n",
    "print 'pixels per deg. %0.3f' %(PIXELS_PER_DEGREE)\n",
    "PHASES = [0,pi] #rad\n",
    "ORIENTATIONS = np.arange(0,180,45)\n",
    "print 'orientations (deg): %s' %(ORIENTATIONS,)\n",
    "FREQUENCIES = np.logspace(np.log10(0.01), np.log10(2.9),num=8)/PIXELS_PER_DEGREE #np.array([0, 0.04, 0.07, 0.14, 0.27, 0.55, 1.09])\n",
    "print 'freqs: (cyc/deg): '+ '%s' %(FREQUENCIES*PIXELS_PER_DEGREE,)\n",
    "isi_luminance = 127\n",
    "\n",
    "##timing parameters\n",
    "PHASE_CYCLES_PER_TR = 6 ##number of frames per tr\n",
    "TR = 1.5\n",
    "UNIQUE_GRATINGS = len(ORIENTATIONS)*len(FREQUENCIES)\n",
    "LOOPS = 2 ##number of times each grating shown in a run.\n",
    "ISI_LAM = 0.4\n",
    "FADE_IN_FRAMES = 4\n",
    "FADE_OUT_FRAMES = 6\n",
    "RUNS = 4 ##\n",
    "RUN_DURATION = ((UNIQUE_GRATINGS*(2+ISI_LAM))*LOOPS + FADE_IN_FRAMES+FADE_OUT_FRAMES)*TR/60.\n",
    "print '%d unique gratings will be shown %d times per run' %(UNIQUE_GRATINGS,LOOPS)\n",
    "print 'average run duration (min): %0.3f' %(RUN_DURATION)\n",
    "print 'total time across runs (min): %0.3f, total reps of each grating across runs: %d' %(RUN_DURATION*RUNS, LOOPS*RUNS)\n",
    "print 'given a TR of %0.3f, movie frame rate should be (Hz): %0.4f' %(TR, PHASE_CYCLES_PER_TR/TR)\n"
   ]
  },
  {
   "cell_type": "markdown",
   "metadata": {
    "collapsed": false
   },
   "source": [
    "###Generate stimuli"
   ]
  },
  {
   "cell_type": "code",
   "execution_count": 3,
   "metadata": {
    "collapsed": true
   },
   "outputs": [],
   "source": [
    "def convert_array_to_image(x, mn=None,mx=None):\n",
    "    if not mn:\n",
    "        mn = np.min(x)\n",
    "    x -= mn\n",
    "    if not mx:\n",
    "        mx = np.max(x)\n",
    "    x /= mx\n",
    "    x *= 255\n",
    "    return Image.fromarray(np.uint8(x), mode='L')\n",
    "    "
   ]
  },
  {
   "cell_type": "code",
   "execution_count": 4,
   "metadata": {
    "collapsed": false
   },
   "outputs": [],
   "source": [
    "def make_a_grating(theta, freq, phase_off, n_pix):\n",
    "    [Xm, Ym] = np.meshgrid(range(0,n_pix), range(0,n_pix));  \n",
    "    thetaRad = (theta / 360.) * 2*pi        # convert theta (orientation) to radians\n",
    "    Xt = Xm * cos(thetaRad);                # compute proportion of Xm for given orientation\n",
    "    Yt = Ym * sin(thetaRad);                # compute proportion of Ym for given orientation\n",
    "    XYt = Xt + Yt;                      # sum X and Y components\n",
    "    XYf = XYt * freq * 2*pi;                # convert to radians and scale by frequency\n",
    "    grating = sin( XYf + phase_off)                   # make 2D sinewave\n",
    "    return grating\n"
   ]
  },
  {
   "cell_type": "code",
   "execution_count": 5,
   "metadata": {
    "collapsed": false
   },
   "outputs": [],
   "source": [
    "def make_a_ripple(freq, phase_off, n_pix):\n",
    "    if n_pix % 2 == 0:\n",
    "        pix_min = -n_pix/2\n",
    "        pix_max = -pix_min\n",
    "    else:\n",
    "        pix_min = -(n_pix-1)/2\n",
    "        pix_max = -pix_min+1\n",
    "    [Xm, Ym] = np.meshgrid(range(pix_min,pix_max), range(pix_min,pix_max));  \n",
    "#     thetaRad = (theta / 360) * 2*pi;        # convert theta (orientation) to radians\n",
    "    Dt = np.sin(np.sqrt(Xm**2+Ym**2)*freq*2*pi+phase_off)              # compute proportion of Xm for given orientation\n",
    "    #Dtf = Dt * freq * 2*pi;                # convert to radians and scale by frequency\n",
    "    #grating = sin( Dtf + phase_off);                   # make 2D sinewave\n",
    "    return Dt"
   ]
  },
  {
   "cell_type": "code",
   "execution_count": 6,
   "metadata": {
    "collapsed": true
   },
   "outputs": [],
   "source": [
    "def make_gaussian(size, fwhm = 3, center=None):\n",
    "    \"\"\" Make a square gaussian kernel.\n",
    "    size is the length of a side of the square\n",
    "    fwhm is full-width-half-maximum, which\n",
    "    can be thought of as an effective radius.\n",
    "    \"\"\"\n",
    "\n",
    "    x = np.arange(0, size, 1, float)\n",
    "    y = x[:,np.newaxis]\n",
    "    \n",
    "    if center is None:\n",
    "        x0 = y0 = size // 2\n",
    "    else:\n",
    "        x0 = center[0]\n",
    "        y0 = center[1]\n",
    "    \n",
    "    return np.exp(-4*np.log(2) * ((x-x0)**2 + (y-y0)**2) / fwhm**2)"
   ]
  },
  {
   "cell_type": "code",
   "execution_count": 7,
   "metadata": {
    "collapsed": true
   },
   "outputs": [],
   "source": [
    "def azimuthalAverage(image, center=None):\n",
    "    \"\"\"\n",
    "    Calculate the azimuthally averaged radial profile.\n",
    "\n",
    "    image - The 2D image\n",
    "    center - The [x,y] pixel coordinates used as the center. The default is \n",
    "             None, which then uses the center of the image (including \n",
    "             fracitonal pixels).\n",
    "    \n",
    "    \"\"\"\n",
    "    # Calculate the indices from the image\n",
    "    y, x = np.indices(image.shape)\n",
    "\n",
    "    if not center:\n",
    "        center = np.array([(x.max()-x.min())/2.0, (x.max()-x.min())/2.0])\n",
    "\n",
    "    r = np.hypot(x - center[0], y - center[1])\n",
    "\n",
    "    # Get sorted radii\n",
    "    ind = np.argsort(r.flat)\n",
    "    r_sorted = r.flat[ind]\n",
    "    i_sorted = image.flat[ind]\n",
    "\n",
    "    # Get the integer part of the radii (bin size = 1)\n",
    "    r_int = r_sorted.astype(int)\n",
    "\n",
    "    # Find all pixels that fall within each radial bin.\n",
    "    deltar = r_int[1:] - r_int[:-1]  # Assumes all radii represented\n",
    "    rind = np.where(deltar)[0]       # location of changed radius\n",
    "    nr = rind[1:] - rind[:-1]        # number of radius bin\n",
    "    \n",
    "    # Cumulative sum to figure out sums for each radius bin\n",
    "    csim = np.cumsum(i_sorted, dtype=float)\n",
    "    tbin = csim[rind[1:]] - csim[rind[:-1]]\n",
    "\n",
    "    radial_prof = tbin / nr\n",
    "\n",
    "    return radial_prof\n"
   ]
  },
  {
   "cell_type": "code",
   "execution_count": 8,
   "metadata": {
    "collapsed": false
   },
   "outputs": [],
   "source": [
    "def see_fft(image):\n",
    "    F1 = scipy.fftpack.fft2(image)\n",
    "\n",
    "    # Now shift the quadrants around so that low spatial frequencies are in\n",
    "    # the center of the 2D fourier transformed image.\n",
    "    F2 = scipy.fftpack.fftshift( F1 )\n",
    "\n",
    "    # Calculate a 2D power spectrum\n",
    "    psd2D = np.abs( F2 )**2\n",
    "\n",
    "    # Calculate the azimuthally averaged 1D power spectrum\n",
    "    psd1D = azimuthalAverage(psd2D)\n",
    "    freq_max = np.argmax(psd1D)\n",
    "\n",
    "    # Now plot up both\n",
    "    figure(1)\n",
    "    clf()\n",
    "    imshow( convert_array_to_image( image ), cmap=cm.gray)\n",
    "\n",
    "    figure(2)\n",
    "    clf()\n",
    "    imshow( np.log10( psd2D ), cmap=cm.gray)\n",
    "\n",
    "    figure(3)\n",
    "    clf()\n",
    "    semilogy( psd1D )\n",
    "    xlabel('Spatial Frequency (cyc/image): peak = %0.3f' %(freq_max))\n",
    "    ylabel('Power Spectrum')"
   ]
  },
  {
   "cell_type": "code",
   "execution_count": 9,
   "metadata": {
    "collapsed": true
   },
   "outputs": [],
   "source": [
    "def frame_name(freq,ori,phase_off):\n",
    "    return 'grating_freq_%0.6f_ori_%0.2f_phase_%0.2f' %(freq,ori,phase_off)\n",
    "    \n"
   ]
  },
  {
   "cell_type": "markdown",
   "metadata": {},
   "source": [
    "####an example"
   ]
  },
  {
   "cell_type": "code",
   "execution_count": 10,
   "metadata": {
    "collapsed": false
   },
   "outputs": [
    {
     "name": "stdout",
     "output_type": "stream",
     "text": [
      "cycle/deg: 0.090498\n"
     ]
    },
    {
     "data": {
      "image/png": "[encoded data removed]",
      "text/plain": [
       "<matplotlib.figure.Figure at 0x106da0590>"
      ]
     },
     "metadata": {},
     "output_type": "display_data"
    },
    {
     "data": {
      "image/png": "[encoded data removed]",
      "text/plain": [
       "<matplotlib.figure.Figure at 0x1071f8690>"
      ]
     },
     "metadata": {},
     "output_type": "display_data"
    },
    {
     "data": {
      "image/png": "[encoded data removed]",
      "text/plain": [
       "<matplotlib.figure.Figure at 0x10bf46c50>"
      ]
     },
     "metadata": {},
     "output_type": "display_data"
    }
   ],
   "source": [
    "##examine in cyc/image\n",
    "\n",
    "freq = 2./STIMULUS_PIXELS\n",
    "see_fft(make_a_grating(10,freq,pi,STIMULUS_PIXELS))\n",
    "print 'cycle/deg: %0.6f' %(freq*PIXELS_PER_DEGREE)"
   ]
  },
  {
   "cell_type": "markdown",
   "metadata": {},
   "source": [
    "####generate the png files"
   ]
  },
  {
   "cell_type": "code",
   "execution_count": 11,
   "metadata": {
    "collapsed": false
   },
   "outputs": [],
   "source": [
    "###the pngs\n",
    "lums = []\n",
    "for ori in ORIENTATIONS:\n",
    "    for freq in FREQUENCIES:\n",
    "        for ph in PHASES:\n",
    "            gr = make_a_grating(ori,freq,ph,STIMULUS_PIXELS)\n",
    "            gr = convert_array_to_image(gr)\n",
    "            lums += [np.mean(np.mean(gr))]\n",
    "            gr.save(savedir+frame_name(freq,ori,ph)+'.png','png')"
   ]
  },
  {
   "cell_type": "code",
   "execution_count": 12,
   "metadata": {
    "collapsed": false
   },
   "outputs": [],
   "source": [
    "###isi screen\n",
    "blank = make_a_blank(STIMULUS_PIXELS,isi_luminance,'L')\n",
    "blank.save(savedir+'isi_screen.png',format='png')\n"
   ]
  },
  {
   "cell_type": "code",
   "execution_count": 13,
   "metadata": {
    "collapsed": true
   },
   "outputs": [],
   "source": [
    "#####note that luminance balanced across phase/freq"
   ]
  },
  {
   "cell_type": "code",
   "execution_count": 14,
   "metadata": {
    "collapsed": false
   },
   "outputs": [
    {
     "data": {
      "text/plain": [
       "[<matplotlib.lines.Line2D at 0x10eeffc90>]"
      ]
     },
     "execution_count": 14,
     "metadata": {},
     "output_type": "execute_result"
    },
    {
     "data": {
      "image/png": "[encoded data removed]",
      "text/plain": [
       "<matplotlib.figure.Figure at 0x10254ff50>"
      ]
     },
     "metadata": {},
     "output_type": "display_data"
    }
   ],
   "source": [
    "plot(lums)"
   ]
  },
  {
   "cell_type": "markdown",
   "metadata": {},
   "source": [
    "###Experimental design"
   ]
  },
  {
   "cell_type": "code",
   "execution_count": 15,
   "metadata": {
    "collapsed": false
   },
   "outputs": [
    {
     "name": "stdout",
     "output_type": "stream",
     "text": [
      "length of experiment: 158 states and 237.000000 seconds = 3.950000 mintues\n",
      "length of experiment: 162 states and 243.000000 seconds = 4.050000 mintues\n",
      "length of experiment: 172 states and 258.000000 seconds = 4.300000 mintues\n",
      "length of experiment: 172 states and 258.000000 seconds = 4.300000 mintues\n"
     ]
    }
   ],
   "source": [
    "####generate frame file\n",
    "cycle_list = []\n",
    "for ori in ORIENTATIONS:\n",
    "    for freq in FREQUENCIES:\n",
    "        flash_list = []\n",
    "        flash_count = 0\n",
    "        while flash_count < PHASE_CYCLES_PER_TR:\n",
    "            for ph in PHASES:\n",
    "                flash_list.append(frame_name(freq,ori,ph)+'.png')\n",
    "                flash_count += 1\n",
    "        cycle_list.append(flash_list)\n",
    "cycle_list.insert(0,['isi_screen.png']*PHASE_CYCLES_PER_TR)\n",
    "\n",
    "for runs in range(RUNS):\n",
    "    design_matrix = make_design_matrix(UNIQUE_GRATINGS,LOOPS,blank_states=[FADE_IN_FRAMES,ISI_LAM,FADE_OUT_FRAMES],seconds_per_state=TR)\n",
    "    experiment = fmri_experiment(design_matrix,cycle_list,TR,design_matrix.shape[1])\n",
    "    experiment.print_frame_list(savedir+'spatial_freq_run_%0.3d.txt' %(runs))\n",
    "  \n"
   ]
  }
 ],
 "metadata": {
  "kernelspec": {
   "display_name": "Python 2",
   "language": "python",
   "name": "python2"
  },
  "language_info": {
   "codemirror_mode": {
    "name": "ipython",
    "version": 2
   },
   "file_extension": ".py",
   "mimetype": "text/x-python",
   "name": "python",
   "nbconvert_exporter": "python",
   "pygments_lexer": "ipython2",
   "version": "2.7.10"
  }
 },
 "nbformat": 4,
 "nbformat_minor": 0
}
