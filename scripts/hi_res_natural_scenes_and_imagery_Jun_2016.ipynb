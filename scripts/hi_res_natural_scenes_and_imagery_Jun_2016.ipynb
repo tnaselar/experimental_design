{
 "cells": [
  {
   "cell_type": "markdown",
   "metadata": {},
   "source": [
    "### Experimental design for a natural scenes + imagery experiment"
   ]
  },
  {
   "cell_type": "code",
   "execution_count": 15,
   "metadata": {
    "collapsed": false
   },
   "outputs": [
    {
     "name": "stdout",
     "output_type": "stream",
     "text": [
      "Populating the interactive namespace from numpy and matplotlib\n"
     ]
    }
   ],
   "source": [
    "from glob import glob\n",
    "from scipy import ndimage as ndi\n",
    "import scipy.fftpack \n",
    "from skimage import data\n",
    "from skimage.util import img_as_float\n",
    "from skimage.filter import gabor_kernel\n",
    "from PIL import Image\n",
    "from object_parsing.src.image_objects import make_a_blank\n",
    "import numpy as np\n",
    "from os import path\n",
    "from experimental_design.src.experiments import make_design_matrix, fmri_experiment\n",
    "from scipy.io import loadmat\n",
    "%pylab inline"
   ]
  },
  {
   "cell_type": "markdown",
   "metadata": {},
   "source": [
    "#### training set parameters"
   ]
  },
  {
   "cell_type": "code",
   "execution_count": 27,
   "metadata": {
    "collapsed": false
   },
   "outputs": [
    {
     "name": "stdout",
     "output_type": "stream",
     "text": [
      "pixels per deg. 34.751\n",
      "37 unique images will be shown 2 times per run\n",
      "average run duration (min): 4.773\n",
      "total time across runs (min): 181.387\n",
      "we have a total of 362.773333 minutes = 6.046222 hours of scan time\n",
      "assuming non-overlapping images in each run, a total of 1406 unique images shown\n",
      "given a TR of 1.500, movie frame rate should be (Hz): 0.666667\n"
     ]
    }
   ],
   "source": [
    "train_param_dict = {}\n",
    "\n",
    "train_param_dict['savedir'] = '/Users/tnaselar/Data/Presentation/hi_res_natural_scenes_and_imagery_Jun_2016/'\n",
    "\n",
    "##image parameters\n",
    "train_param_dict['STIMULUS_PIXELS'] = 768\n",
    "train_param_dict['VIEWING_ANGLE'] = 22.1 ##edge-to-edge of 768pix stim\n",
    "\n",
    "X1,X2 = train_param_dict['STIMULUS_PIXELS'], train_param_dict['VIEWING_ANGLE']\n",
    "train_param_dict['PIXELS_PER_DEGREE'] = X1/X2\n",
    "\n",
    "train_param_dict['PICS'] = 37 ##the number of images per run\n",
    "train_param_dict['isi_luminance'] = 137\n",
    "\n",
    "##timing parameters\n",
    "train_param_dict['FRAMES_PER_TR'] = 1. ##number of frames per tr (s)\n",
    "train_param_dict['TR'] = 1.5\n",
    "train_param_dict['REPS_PER_PIC'] = 2      ## number of times each image is shown in a run.\n",
    "train_param_dict['ISI_LAM'] = 0.4         ## the average of poisson dist. for sampling number of isi frames after each image\n",
    "\n",
    "\n",
    "train_param_dict['FADE_IN_FRAMES'] = 10   ## number of TRs for fading in. should be equal to expected length of HRF\n",
    "train_param_dict['FADE_OUT_FRAMES'] = 10  ## number of TRs for fading out. should be equal to expected length of HRF\n",
    "train_param_dict['RUNS'] = 38              ## number of runs\n",
    "\n",
    "\n",
    "train_param_dict['REPS_PER_RUN'] = 2              ## number of times each run will be shown\n",
    "\n",
    "\n",
    "\n",
    "\n",
    "def print_exp_info(param_dict):\n",
    "    \n",
    "    \n",
    "    x,y,z = param_dict['TR'],param_dict['FRAMES_PER_TR'],param_dict['ISI_LAM']\n",
    "    param_dict['TIME_PER_PIC'] = (x*(1./y))*(2+z)\n",
    "\n",
    "    X1,X2,X3,X4,X5 = map(lambda w: param_dict[w], ['PICS','TIME_PER_PIC', 'REPS_PER_PIC', 'FADE_IN_FRAMES', 'FADE_OUT_FRAMES'])\n",
    "    param_dict['RUN_DURATION'] = ((X1*(X2))*X3 + X4+X5)/60.\n",
    "    \n",
    "    param_dict['TOTAL_SCAN_TIME'] = param_dict['RUN_DURATION']*param_dict['RUNS']*param_dict['REPS_PER_RUN']\n",
    "\n",
    "    param_dict['UNIQUE_PICS'] = train_param_dict['PICS']*train_param_dict['RUNS']\n",
    "    \n",
    "    print 'pixels per deg. %0.3f' %(param_dict['PIXELS_PER_DEGREE'])\n",
    "    print '%d unique images will be shown %d times per run' %(param_dict['PICS'],param_dict['REPS_PER_PIC'])\n",
    "    print 'average run duration (min): %0.3f' %(param_dict['RUN_DURATION'])\n",
    "    print 'total time across runs (min): %0.3f' %(param_dict['RUN_DURATION']*param_dict['RUNS'])\n",
    "    print 'we have a total of %f minutes = %f hours of scan time' %(param_dict['TOTAL_SCAN_TIME'], param_dict['TOTAL_SCAN_TIME']/60.)\n",
    "    print 'assuming non-overlapping images in each run, a total of %d unique images shown' %(param_dict['RUNS']*param_dict['PICS'])\n",
    "    print 'given a TR of %0.3f, movie frame rate should be (Hz): %0.6f' %(param_dict['TR'], param_dict['FRAMES_PER_TR']/param_dict['TR'])\n",
    "    \n",
    "\n",
    "print_exp_info(train_param_dict)"
   ]
  },
  {
   "cell_type": "code",
   "execution_count": 19,
   "metadata": {
    "collapsed": false
   },
   "outputs": [
    {
     "data": {
      "text/plain": [
       "(1, 1440)"
      ]
     },
     "execution_count": 19,
     "metadata": {},
     "output_type": "execute_result"
    }
   ],
   "source": [
    "foo['stimDxTrn'].shape"
   ]
  },
  {
   "cell_type": "code",
   "execution_count": 3,
   "metadata": {
    "collapsed": false
   },
   "outputs": [],
   "source": [
    "pics = glob('/Users/tnaselar/Data/Presentation/mia.art/pictures/*.png')\n",
    "np.random.shuffle(pics)\n",
    "pics = pics[:IMAGES]\n",
    "for pic_name in pics:\n",
    "    img = Image.open(pic_name).resize((STIMULUS_PIXELS, STIMULUS_PIXELS))\n",
    "    pic_name = path.basename(pic_name)\n",
    "    img.save(path.join(savedir,pic_name),'png')"
   ]
  },
  {
   "cell_type": "code",
   "execution_count": 4,
   "metadata": {
    "collapsed": false
   },
   "outputs": [],
   "source": [
    "isi_screen = make_a_blank(STIMULUS_PIXELS,isi_luminance,'RGB')\n",
    "isi_screen.save(path.join(savedir,'isi_screen.png'),'png')"
   ]
  },
  {
   "cell_type": "markdown",
   "metadata": {},
   "source": [
    "####experimental design"
   ]
  },
  {
   "cell_type": "code",
   "execution_count": 5,
   "metadata": {
    "collapsed": false
   },
   "outputs": [
    {
     "data": {
      "text/plain": [
       "[['isi_screen.png'],\n",
       " ['100525_mia341_9487.png'],\n",
       " ['100624_mia341_9510.png'],\n",
       " ['isi_screen.png'],\n",
       " ['mia_1005776.png'],\n",
       " ['mia_10256b.png'],\n",
       " ['mia_11424b.png'],\n",
       " ['mia_2003711.png'],\n",
       " ['mia_27b.png'],\n",
       " ['mia_434b.png'],\n",
       " ['mia_48264a.png'],\n",
       " ['mia_5002069.png'],\n",
       " ['mia_5002155.png'],\n",
       " ['mia_5008467.png'],\n",
       " ['mia_5009852.png'],\n",
       " ['mia_5012616.png'],\n",
       " ['mia_5018721.png'],\n",
       " ['mia_5019110.png'],\n",
       " ['mia_5021260.png'],\n",
       " ['mia_5023731.png'],\n",
       " ['mia_6007261.png'],\n",
       " ['mia_6216b.png'],\n",
       " ['mia_7785b.png'],\n",
       " ['mia_7831b.png'],\n",
       " ['PCD19990121_1178_IMG0042.png'],\n",
       " ['PCD19990622_0051_IMG0009.png']]"
      ]
     },
     "execution_count": 5,
     "metadata": {},
     "output_type": "execute_result"
    }
   ],
   "source": [
    "def frame_name(savedir,run,filetype='.png'):\n",
    "    return path.join(savedir,'mia_art_run_%0.2d.%s' %(run,filetype))\n",
    "\n",
    "stim_list = []\n",
    "for ss in map(path.basename, glob(path.join(savedir,'*.png'))):\n",
    "    stim_list.append([ss])\n",
    "stim_list.insert(0,['isi_screen.png']) ##<<blank stim always goes first in stim_list\n",
    "stim_list"
   ]
  },
  {
   "cell_type": "code",
   "execution_count": 6,
   "metadata": {
    "collapsed": false
   },
   "outputs": [
    {
     "name": "stdout",
     "output_type": "stream",
     "text": [
      "length of experiment: 136 states and 204.000000 seconds = 3.400000 mintues\n",
      "length of experiment: 128 states and 192.000000 seconds = 3.200000 mintues\n",
      "length of experiment: 136 states and 204.000000 seconds = 3.400000 mintues\n",
      "length of experiment: 131 states and 196.500000 seconds = 3.275000 mintues\n",
      "length of experiment: 131 states and 196.500000 seconds = 3.275000 mintues\n",
      "length of experiment: 130 states and 195.000000 seconds = 3.250000 mintues\n",
      "length of experiment: 134 states and 201.000000 seconds = 3.350000 mintues\n",
      "length of experiment: 127 states and 190.500000 seconds = 3.175000 mintues\n"
     ]
    }
   ],
   "source": [
    "for rr in range(RUNS):\n",
    "    dm = make_design_matrix(IMAGES,LOOPS,blank_states=[FADE_IN_FRAMES,ISI_LAM,FADE_OUT_FRAMES],seconds_per_state=TR)\n",
    "    one_run = fmri_experiment(dm,stim_list,seconds_per_state=TR,vols_per_state = 1)\n",
    "    one_run.print_frame_list(frame_name(savedir,rr,filetype='txt'))"
   ]
  },
  {
   "cell_type": "code",
   "execution_count": null,
   "metadata": {
    "collapsed": true
   },
   "outputs": [],
   "source": []
  }
 ],
 "metadata": {
  "kernelspec": {
   "display_name": "Python 2",
   "language": "python",
   "name": "python2"
  },
  "language_info": {
   "codemirror_mode": {
    "name": "ipython",
    "version": 2
   },
   "file_extension": ".py",
   "mimetype": "text/x-python",
   "name": "python",
   "nbconvert_exporter": "python",
   "pygments_lexer": "ipython2",
   "version": "2.7.11"
  }
 },
 "nbformat": 4,
 "nbformat_minor": 0
}
