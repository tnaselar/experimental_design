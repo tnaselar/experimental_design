{
 "cells": [
  {
   "cell_type": "markdown",
   "metadata": {},
   "source": [
    "###Match/mismatch predictive coding stimuli"
   ]
  },
  {
   "cell_type": "code",
   "execution_count": 1,
   "metadata": {
    "collapsed": false
   },
   "outputs": [
    {
     "name": "stdout",
     "output_type": "stream",
     "text": [
      "Populating the interactive namespace from numpy and matplotlib\n"
     ]
    }
   ],
   "source": [
    "from PIL import Image\n",
    "from PIL import ImageDraw as Draw\n",
    "from PIL import ImageFilter\n",
    "from skimage.filter import gaussian_filter\n",
    "import numpy as np\n",
    "from glob import glob\n",
    "from os import path\n",
    "from object_parsing.src.image_objects import make_a_blank\n",
    "import scipy.io as sio\n",
    "\n",
    "%pylab inline"
   ]
  },
  {
   "cell_type": "markdown",
   "metadata": {},
   "source": [
    "#### Parameters and code"
   ]
  },
  {
   "cell_type": "code",
   "execution_count": 2,
   "metadata": {
    "collapsed": false
   },
   "outputs": [],
   "source": [
    "imgX_fname = '%0.6d.png'\n",
    "savedir = '/Users/tnaselar/Data/Presentation/predictive.coding.match.nonmatch/four_windows/'\n",
    "picdir = savedir+'base_images/'"
   ]
  },
  {
   "cell_type": "code",
   "execution_count": 3,
   "metadata": {
    "collapsed": false
   },
   "outputs": [
    {
     "name": "stdout",
     "output_type": "stream",
     "text": [
      "cycles per run: 48\n",
      "cycle duration (sec) : 6.000000\n",
      "run duration (min) 4.975000\n",
      "total experiment duration (min): 39.800000\n",
      "8 images will be imagined 24 times each\n"
     ]
    },
    {
     "data": {
      "text/plain": [
       "<matplotlib.figure.Figure at 0x10254f7d0>"
      ]
     },
     "metadata": {},
     "output_type": "display_data"
    }
   ],
   "source": [
    "image_scale = 768\n",
    "image_shape = np.array((1,1))*image_scale ## <<units of image_scale\n",
    "occluder_locations = {'northwest': (.25*image_scale, .25*image_scale), \n",
    "                      'northeast': (.25*image_scale, .75*image_scale),\n",
    "                      'southwest': (.75*image_scale, .25*image_scale),\n",
    "                      'southeast': (.75*image_scale, .75*image_scale)}\n",
    "occluder_radius = .2*image_scale ##units of image_scale\n",
    "occluder_luminance = 127 ##8-bit scale\n",
    "isi_luminance = 127\n",
    "pyplot.set_cmap('gray')\n",
    "\n",
    "##--run parameters\n",
    "FADE_IN_FRAMES = 4\n",
    "FADE_OUT_FRAMES = 3\n",
    "OCCLUDER_LOCATIONS = len(occluder_locations.keys())\n",
    "IMAGES_PER_SET = 2 ##assume 1 set per occluder\n",
    "LOOPS = 3 ##we need this because the reps per set are pegged to the number of images\n",
    "MATCH_REPS_PER_SET = IMAGES_PER_SET-2\n",
    "IMAGES_PER_CYCLE = 4  ##(base, imagery_screen, patch, isi)\n",
    "TRs_PER_IMAGE = 1\n",
    "TR = 1.5 ##seconds\n",
    "CYCLES_PER_RUN = (IMAGES_PER_SET**2+IMAGES_PER_SET*MATCH_REPS_PER_SET)*OCCLUDER_LOCATIONS*LOOPS\n",
    "print 'cycles per run: %d' %(CYCLES_PER_RUN)\n",
    "CYCLE_DURATION = IMAGES_PER_CYCLE*TRs_PER_IMAGE*TR\n",
    "print 'cycle duration (sec) : %f' %(CYCLE_DURATION)\n",
    "RUN_DURATION = CYCLES_PER_RUN*CYCLE_DURATION+(FADE_IN_FRAMES+FADE_OUT_FRAMES)*TR\n",
    "print 'run duration (min) %f' %(RUN_DURATION / 60.)\n",
    "ISI_LAM = 0.2\n",
    "\n",
    "RUNS = 8\n",
    "\n",
    "print 'total experiment duration (min): %f' %( RUNS*RUN_DURATION / 60. )\n",
    "\n",
    "UNIQUE_IMAGES = IMAGES_PER_SET*OCCLUDER_LOCATIONS\n",
    "print '%d images will be imagined %d times each' %(UNIQUE_IMAGES, (MATCH_REPS_PER_SET+1)*LOOPS*RUNS)\n",
    "\n"
   ]
  },
  {
   "cell_type": "code",
   "execution_count": 4,
   "metadata": {
    "collapsed": false
   },
   "outputs": [
    {
     "data": {
      "text/plain": [
       "4"
      ]
     },
     "execution_count": 4,
     "metadata": {},
     "output_type": "execute_result"
    }
   ],
   "source": [
    "len(occluder_locations.keys())"
   ]
  },
  {
   "cell_type": "code",
   "execution_count": 5,
   "metadata": {
    "collapsed": false
   },
   "outputs": [],
   "source": [
    "def make_patch(occluder, img, mask):\n",
    "    return Image.composite(img,occluder,mask)\n",
    "\n",
    "def occlude_image(occluder,img,mask):\n",
    "    return Image.composite(occluder,img,mask)\n",
    "\n",
    "def random_isi(lam):\n",
    "    return 1+np.random.poisson(lam=lam)  \n",
    "\n",
    "def make_alpha_mask(size, x,y,r,fill):\n",
    "    blank = make_a_blank(size, background = 0, mode='L')\n",
    "    circle_mask = Draw.Draw(blank)\n",
    "    circle_mask.ellipse((x-r, y-r, x+r, y+r), fill=fill)\n",
    "    return blank"
   ]
  },
  {
   "cell_type": "code",
   "execution_count": 6,
   "metadata": {
    "collapsed": false
   },
   "outputs": [],
   "source": [
    "def print_frame_sequence(frame_sequence,print_to):  #+'movie_'+str(mm))\n",
    "    with open(print_to,'w') as thefile:\n",
    "        for item in frame_sequence:\n",
    "          thefile.write(\"%s\\n\" % item)"
   ]
  },
  {
   "cell_type": "code",
   "execution_count": 7,
   "metadata": {
    "collapsed": false
   },
   "outputs": [],
   "source": [
    "def make_base_name(savedir,key,base_image_name):\n",
    "    return savedir+key+'_'+base_image_name+'_base.png'\n",
    "\n",
    "def make_patch_name(savedir,key,patch_image_name):\n",
    "    return savedir+key+'_'+patch_image_name+'_patch.png'\n",
    "    "
   ]
  },
  {
   "cell_type": "markdown",
   "metadata": {},
   "source": [
    "####Select images"
   ]
  },
  {
   "cell_type": "code",
   "execution_count": 8,
   "metadata": {
    "collapsed": false
   },
   "outputs": [],
   "source": [
    "image_sets = {}\n",
    "image_sets['northwest'] = [3167,4001]\n",
    "image_sets['northeast'] = [3860,4045]\n",
    "image_sets['southwest'] = [3770,3412]\n",
    "image_sets['southeast'] = [3067,3277]\n",
    "\n",
    "\n",
    "isi_screen = 'isi_screen.png'\n",
    "imagery_screen = 'imagery_screen.png'\n"
   ]
  },
  {
   "cell_type": "markdown",
   "metadata": {},
   "source": [
    "#####generate images"
   ]
  },
  {
   "cell_type": "code",
   "execution_count": 9,
   "metadata": {
    "collapsed": false
   },
   "outputs": [],
   "source": [
    "##occluder\n",
    "occluder = make_a_blank((image_scale,image_scale),occluder_luminance,'L')\n",
    "\n",
    "##patch masks\n",
    "for key in occluder_locations.keys():\n",
    "    mask =  make_alpha_mask((image_scale,image_scale),occluder_locations[key][1],occluder_locations[key][0],occluder_radius,255)\n",
    "    mask.save(savedir+key+'_patch_mask.png')\n",
    "\n",
    "\n",
    "\n",
    "##isi_screen\n",
    "blank = make_a_blank(image_scale,isi_luminance,'L')\n",
    "blank.save(savedir+'isi_screen.png',format='png')\n",
    "\n",
    "##imagery_screen\n",
    "blank.save(savedir+'imagery_screen.png',format='png')\n",
    "\n"
   ]
  },
  {
   "cell_type": "code",
   "execution_count": 10,
   "metadata": {
    "collapsed": false
   },
   "outputs": [],
   "source": [
    "\n",
    "##a loop to create the actual .pngs\n",
    "for oo,os in enumerate(occluder_locations.keys()):\n",
    "    images_for_current_set_and_location = image_sets[os]\n",
    "    mask = Image.open(savedir+os+'_patch_mask.png')\n",
    "    for bb in range(IMAGES_PER_SET):\n",
    "        base_image_name = '%0.6d' %(images_for_current_set_and_location[bb])\n",
    "        base_image = Image.open(picdir+base_image_name+'.png').convert('L').resize((image_scale,image_scale))\n",
    "        occlude_image(occluder,base_image,mask).save(make_base_name(savedir,os,base_image_name))\n",
    "\n",
    "        for pp in range(IMAGES_PER_SET):\n",
    "            patch_image_name = '%0.6d' %(images_for_current_set_and_location[pp])\n",
    "            patch_image = Image.open(picdir+patch_image_name+'.png').resize((image_scale,image_scale))\n",
    "            make_patch(occluder,patch_image,mask).save(make_patch_name(savedir,os,patch_image_name))\n",
    " "
   ]
  },
  {
   "cell_type": "markdown",
   "metadata": {},
   "source": [
    "####generate frame files"
   ]
  },
  {
   "cell_type": "code",
   "execution_count": 11,
   "metadata": {
    "collapsed": false
   },
   "outputs": [
    {
     "name": "stdout",
     "output_type": "stream",
     "text": [
      "printing 209 frames to: run_0.txt\n",
      "printing 207 frames to: run_1.txt\n",
      "printing 210 frames to: run_2.txt\n",
      "printing 212 frames to: run_3.txt\n",
      "printing 208 frames to: run_4.txt\n",
      "printing 208 frames to: run_5.txt\n",
      "printing 211 frames to: run_6.txt\n",
      "printing 209 frames to: run_7.txt\n"
     ]
    }
   ],
   "source": [
    "\n",
    "##cycle list\n",
    "for run in range(RUNS):\n",
    "    cycle_list = []\n",
    "    for oo,os in enumerate(occluder_locations.keys()):\n",
    "        images_for_current_set_and_location = image_sets[os]\n",
    "        for ff in range(LOOPS):\n",
    "            for bb in range(IMAGES_PER_SET):\n",
    "                base_image = '%0.6d' %(images_for_current_set_and_location[bb])\n",
    "                for pp in range(IMAGES_PER_SET):\n",
    "                    patch_image = '%0.6d' %(images_for_current_set_and_location[pp])\n",
    "                    isi_duration = random_isi(ISI_LAM)\n",
    "                    base_name = make_base_name('',os,base_image)\n",
    "                    patch_name = make_patch_name('',os,patch_image)\n",
    "                    one_cycle = [base_name, imagery_screen, patch_name]\n",
    "                    one_cycle.extend([isi_screen]*isi_duration)\n",
    "                    cycle_list.append(one_cycle)\n",
    "                for rr in range(MATCH_REPS_PER_SET):\n",
    "                    patch_image = '%0.6d' %(images_for_current_set_and_location[bb])\n",
    "                    isi_duration = random_isi(ISI_LAM)\n",
    "                    base_name = make_base_name('',os,base_image)\n",
    "                    patch_name = make_patch_name('',os,patch_image)\n",
    "                    one_cycle = [base_name, imagery_screen, patch_name]\n",
    "                    one_cycle.extend([isi_screen]*isi_duration)\n",
    "                    cycle_list.append(one_cycle)\n",
    "    np.random.shuffle(cycle_list)\n",
    "    flat_cycle_list = [item for sublist in cycle_list for item in sublist]\n",
    "    flat_cycle_list = [isi_screen]*FADE_IN_FRAMES+flat_cycle_list\n",
    "    flat_cycle_list.extend([isi_screen]*FADE_OUT_FRAMES)\n",
    "    print 'printing %d frames to: run_%d.txt' %(len(flat_cycle_list),run)     \n",
    "    print_frame_sequence(flat_cycle_list,savedir+'run_%d.txt' %(run))"
   ]
  },
  {
   "cell_type": "code",
   "execution_count": null,
   "metadata": {
    "collapsed": true
   },
   "outputs": [],
   "source": []
  }
 ],
 "metadata": {
  "kernelspec": {
   "display_name": "Python 2",
   "language": "python",
   "name": "python2"
  },
  "language_info": {
   "codemirror_mode": {
    "name": "ipython",
    "version": 2
   },
   "file_extension": ".py",
   "mimetype": "text/x-python",
   "name": "python",
   "nbconvert_exporter": "python",
   "pygments_lexer": "ipython2",
   "version": "2.7.10"
  }
 },
 "nbformat": 4,
 "nbformat_minor": 0
}
