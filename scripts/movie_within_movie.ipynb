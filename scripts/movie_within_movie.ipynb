{
 "metadata": {
  "name": "",
  "signature": "sha256:cc1768378aeab0f6ac187f6d318e8054db95ca6fbc7b7da004421ee791544f7d"
 },
 "nbformat": 3,
 "nbformat_minor": 0,
 "worksheets": [
  {
   "cells": [
    {
     "cell_type": "markdown",
     "metadata": {},
     "source": [
      "###Movie-within-movie"
     ]
    },
    {
     "cell_type": "code",
     "collapsed": false,
     "input": [
      "from PIL import Image\n",
      "from PIL import ImageDraw as Draw\n",
      "from PIL import ImageFilter\n",
      "from skimage.filter import gaussian_filter\n",
      "import numpy as np\n",
      "from glob import glob\n",
      "from os import path\n",
      "from object_parsing.src.image_objects import make_a_blank\n",
      "%pylab inline"
     ],
     "language": "python",
     "metadata": {},
     "outputs": [
      {
       "output_type": "stream",
       "stream": "stdout",
       "text": [
        "Populating the interactive namespace from numpy and matplotlib\n"
       ]
      }
     ],
     "prompt_number": 1
    },
    {
     "cell_type": "markdown",
     "metadata": {},
     "source": [
      "#### Simple two-image test cases"
     ]
    },
    {
     "cell_type": "code",
     "collapsed": false,
     "input": [
      "stim_locations = '/media/tnaselar/Data/lotushill_7T_data/my_labeled_images/pictures/'\n",
      "imgX_fname = '%0.6d.png'"
     ],
     "language": "python",
     "metadata": {},
     "outputs": [],
     "prompt_number": 2
    },
    {
     "cell_type": "code",
     "collapsed": false,
     "input": [
      "img1_id = 2000\n",
      "img2_id = 4200\n",
      "img1_fname,img2_fname = stim_locations+imgX_fname %(img1_id), stim_locations+imgX_fname %(img2_id)\n",
      "img1_fname,img2_fname"
     ],
     "language": "python",
     "metadata": {},
     "outputs": [
      {
       "metadata": {},
       "output_type": "pyout",
       "prompt_number": 3,
       "text": [
        "('/media/tnaselar/Data/lotushill_7T_data/my_labeled_images/pictures/002000.png',\n",
        " '/media/tnaselar/Data/lotushill_7T_data/my_labeled_images/pictures/004200.png')"
       ]
      }
     ],
     "prompt_number": 3
    },
    {
     "cell_type": "code",
     "collapsed": false,
     "input": [
      "img1 = Image.open(img1_fname).convert('L')\n",
      "img2 = Image.open(img2_fname).convert('L')"
     ],
     "language": "python",
     "metadata": {},
     "outputs": [],
     "prompt_number": 4
    },
    {
     "cell_type": "code",
     "collapsed": false,
     "input": [
      "img1.show()"
     ],
     "language": "python",
     "metadata": {},
     "outputs": [],
     "prompt_number": 5
    },
    {
     "cell_type": "code",
     "collapsed": false,
     "input": [
      "img2.show()"
     ],
     "language": "python",
     "metadata": {},
     "outputs": [],
     "prompt_number": 6
    },
    {
     "cell_type": "code",
     "collapsed": false,
     "input": [
      "def make_alpha_mask(size, x,y,r,fill):\n",
      "    blank = make_a_blank(size, background = 0, mode='L')\n",
      "    circle_mask = Draw.Draw(blank)\n",
      "    circle_mask.ellipse((x-r, y-r, x+r, y+r), fill=fill)\n",
      "    return blank"
     ],
     "language": "python",
     "metadata": {},
     "outputs": [],
     "prompt_number": 7
    },
    {
     "cell_type": "code",
     "collapsed": false,
     "input": [
      "occluder = make_a_blank((500,500),137,'L')\n",
      "occluder.show()\n",
      "mask =  make_alpha_mask((500,500), 250,250,75,255)\n",
      "mask.show()\n"
     ],
     "language": "python",
     "metadata": {},
     "outputs": [],
     "prompt_number": 8
    },
    {
     "cell_type": "code",
     "collapsed": false,
     "input": [
      "Image.composite(occluder,img1,mask).show()"
     ],
     "language": "python",
     "metadata": {},
     "outputs": [],
     "prompt_number": 9
    },
    {
     "cell_type": "markdown",
     "metadata": {},
     "source": [
      "#### Multi-image static photo-on-photo with random transition dynamics"
     ]
    },
    {
     "cell_type": "code",
     "collapsed": false,
     "input": [
      "legal_image_paths = glob(stim_locations+'00[3-4]*.png')  ##last ~1200 images"
     ],
     "language": "python",
     "metadata": {},
     "outputs": [],
     "prompt_number": 10
    },
    {
     "cell_type": "code",
     "collapsed": false,
     "input": [
      "# def random_intervals(n_chunks):\n",
      "#     tots = 0.\n",
      "#     parts = []\n",
      "#     for ii in range(n_chunks-1):\n",
      "#         foo = (1-tots)*np.random.random_sample()\n",
      "#         parts.append(foo) \n",
      "#         tots += foo\n",
      "#     parts.append(1-tots)\n",
      "#     return parts\n"
     ],
     "language": "python",
     "metadata": {},
     "outputs": [],
     "prompt_number": 11
    },
    {
     "cell_type": "code",
     "collapsed": false,
     "input": [
      "def random_intervals(support, n_chunks):\n",
      "    return list(np.diff([0]+sorted(np.random.permutation(range(1,support))[0:n_chunks-1])+[support]))\n",
      "    \n",
      "    "
     ],
     "language": "python",
     "metadata": {},
     "outputs": [],
     "prompt_number": 12
    },
    {
     "cell_type": "code",
     "collapsed": false,
     "input": [
      "foo = random_intervals(100,6)\n",
      "print foo\n",
      "print sum(foo)"
     ],
     "language": "python",
     "metadata": {},
     "outputs": [
      {
       "output_type": "stream",
       "stream": "stdout",
       "text": [
        "[4, 42, 13, 6, 17, 18]\n",
        "100\n"
       ]
      }
     ],
     "prompt_number": 13
    },
    {
     "cell_type": "code",
     "collapsed": false,
     "input": [
      "SEGMENT_LENGTH = 6\n",
      "def generate_segment_frames(img1_fname,img2_fname,mask,occluder, print_to):\n",
      "    frame = []\n",
      "    img1 = Image.open(img1_fname).resize(occluder.size).convert('L')\n",
      "    img2 = Image.open(img2_fname).resize(occluder.size).convert('L')\n",
      "    img1_name = path.basename(img1_fname).replace('.png','')\n",
      "    img2_name = path.basename(img2_fname).replace('.png','')\n",
      "    ##==1\n",
      "    first = Image.composite(occluder,img1,mask)\n",
      "    first_name = img1_name+'+occluder'+'.png'\n",
      "    first.save(print_to+first_name)\n",
      "    ##==2\n",
      "    second = Image.composite(img2,img1,mask)\n",
      "    second_name = img1_name+'+'+img2_name+'.png'\n",
      "    second.save(print_to+second_name)\n",
      "    ##==3\n",
      "    third = img2\n",
      "    third_name = img2_name+'.png'\n",
      "    third.save(print_to+third_name)\n",
      "    ##==4\n",
      "    fourth = Image.composite(occluder,img2,mask)\n",
      "    fourth_name = img2_name+'+occluder.png'\n",
      "    fourth.save(print_to+fourth_name)\n",
      "    ##==5\n",
      "    fifth = Image.composite(img1,img2,mask)\n",
      "    fifth_name = img2_name+'+'+img1_name+'.png'\n",
      "    fifth.save(print_to+fifth_name)\n",
      "    ##==6\n",
      "    sixth = img1\n",
      "    sixth_name = img1_name+'.png'\n",
      "    sixth.save(print_to+sixth_name)\n",
      "    ##==\n",
      "    return [first_name, second_name, third_name, fourth_name, fifth_name, sixth_name]\n",
      "    "
     ],
     "language": "python",
     "metadata": {},
     "outputs": [],
     "prompt_number": 14
    },
    {
     "cell_type": "code",
     "collapsed": false,
     "input": [],
     "language": "python",
     "metadata": {},
     "outputs": [],
     "prompt_number": 14
    },
    {
     "cell_type": "code",
     "collapsed": false,
     "input": [
      "def print_frame_sequence(frame_sequence,print_to):  #+'movie_'+str(mm))\n",
      "    with open(print_to,'w') as thefile:\n",
      "        for item in frame_sequence:\n",
      "          thefile.write(\"%s\\n\" % item)"
     ],
     "language": "python",
     "metadata": {},
     "outputs": [],
     "prompt_number": 15
    },
    {
     "cell_type": "code",
     "collapsed": false,
     "input": [
      "print_to = '/media/tnaselar/Data/scratch/test_picture_in_picture/'\n",
      "##each movie is composed of segments\n",
      "##each segment goes (img1+mask-->img1+mask*img2-->img2-->img2+mask-->img2+mask*img1-->img1)\n",
      "blank_frame = '000000.png'\n",
      "number_of_movies = 1\n",
      "frame_size = (480,480)\n",
      "number_of_frames = 375 \n",
      "total_time = 5000. ##msec\n",
      "time_per_frame = total_time/number_of_frames ##msecs\n",
      "mask_location = (240,240)\n",
      "mask_size_range = (40, 160)\n",
      "segment_duration = 1000 ##<<msec\n",
      "frames_per_segment = int(segment_duration/time_per_frame)\n",
      "print frames_per_segment\n",
      "segments_per_movie = 4\n",
      "total_segment_duration = segments_per_movie*segment_duration\n",
      "total_isi_duration = total_time - total_segment_duration\n",
      "frames_per_total_isi = int(total_isi_duration/time_per_frame)\n",
      "print frames_per_total_isi\n",
      "\n",
      "for mm in range(number_of_movies):\n",
      "    frame_sequence = []\n",
      "    ##generate isi between segments\n",
      "    isi_durations = random_intervals(frames_per_total_isi,SEGMENT_LENGTH)\n",
      "    print 'isi durations'\n",
      "    print isi_durations\n",
      "    ##begin constructing the frame sequence for this movie\n",
      "    \n",
      "    for ss in range(segments_per_movie):\n",
      "        frame_sequence += [blank_frame]*int(isi_durations.pop())\n",
      "        ##select images\n",
      "        img1_fname = legal_image_paths.pop()\n",
      "        img2_fname = legal_image_paths.pop()\n",
      "        mask_size = np.random.randint(mask_size_range[0],mask_size_range[1])\n",
      "        mask = make_alpha_mask(frame_size,mask_location[0],mask_location[1],mask_size,255)\n",
      "        occluder_brightness = np.random.randint(0,255)\n",
      "        occluder = make_a_blank(frame_size,occluder_brightness,'L')\n",
      "        segment_frame_names = generate_segment_frames(img1_fname,img2_fname,mask,occluder,print_to)\n",
      "        \n",
      "        ##generate durations for each frame of the segment\n",
      "        frame_durations =  random_intervals(frames_per_segment,SEGMENT_LENGTH)\n",
      "        \n",
      "        ##create the frame sequence for this segment        \n",
      "        for ff in segment_frame_names:\n",
      "            f_dur = int(frame_durations.pop())\n",
      "            print f_dur\n",
      "            frame_sequence  += [ff]*int(f_dur)\n",
      "    \n",
      "    print_frame_sequence(frame_sequence,print_to+'movie_'+str(mm)+'.txt')\n",
      "    "
     ],
     "language": "python",
     "metadata": {},
     "outputs": [
      {
       "output_type": "stream",
       "stream": "stdout",
       "text": [
        "75\n",
        "75\n",
        "isi durations\n",
        "[15, 8, 6, 10, 27, 9]\n",
        "4"
       ]
      },
      {
       "output_type": "stream",
       "stream": "stdout",
       "text": [
        "\n",
        "30\n",
        "4\n",
        "31\n",
        "4\n",
        "2\n",
        "3"
       ]
      },
      {
       "output_type": "stream",
       "stream": "stdout",
       "text": [
        "\n",
        "27\n",
        "11\n",
        "13\n",
        "16\n",
        "5\n",
        "30"
       ]
      },
      {
       "output_type": "stream",
       "stream": "stdout",
       "text": [
        "\n",
        "9\n",
        "5\n",
        "13\n",
        "10\n",
        "8\n",
        "5"
       ]
      },
      {
       "output_type": "stream",
       "stream": "stdout",
       "text": [
        "\n",
        "14\n",
        "16\n",
        "10\n",
        "3\n",
        "27\n"
       ]
      }
     ],
     "prompt_number": 16
    },
    {
     "cell_type": "code",
     "collapsed": false,
     "input": [
      "segment_frame_names"
     ],
     "language": "python",
     "metadata": {},
     "outputs": [
      {
       "metadata": {},
       "output_type": "pyout",
       "prompt_number": 17,
       "text": [
        "['003821+occluder.png',\n",
        " '003821+003416.png',\n",
        " '003416.png',\n",
        " '003416+occluder.png',\n",
        " '003416+003821.png',\n",
        " '003821.png']"
       ]
      }
     ],
     "prompt_number": 17
    },
    {
     "cell_type": "code",
     "collapsed": false,
     "input": [
      "len(frame_sequence)"
     ],
     "language": "python",
     "metadata": {},
     "outputs": [
      {
       "metadata": {},
       "output_type": "pyout",
       "prompt_number": 18,
       "text": [
        "352"
       ]
      }
     ],
     "prompt_number": 18
    },
    {
     "cell_type": "code",
     "collapsed": false,
     "input": [],
     "language": "python",
     "metadata": {},
     "outputs": [],
     "prompt_number": 18
    },
    {
     "cell_type": "code",
     "collapsed": false,
     "input": [],
     "language": "python",
     "metadata": {},
     "outputs": [],
     "prompt_number": 18
    }
   ],
   "metadata": {}
  }
 ]
}