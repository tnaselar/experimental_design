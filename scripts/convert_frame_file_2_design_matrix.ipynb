{
 "cells": [
  {
   "cell_type": "code",
   "execution_count": 1,
   "metadata": {
    "collapsed": false
   },
   "outputs": [
    {
     "name": "stdout",
     "output_type": "stream",
     "text": [
      "Populating the interactive namespace from numpy and matplotlib\n"
     ]
    }
   ],
   "source": [
    "%load_ext autoreload\n",
    "%autoreload 2\n",
    "import numpy as np\n",
    "from experimental_design.src.experiments import fmri_experiment as fme\n",
    "from scipy.io import savemat, loadmat\n",
    "%pylab inline"
   ]
  },
  {
   "cell_type": "code",
   "execution_count": null,
   "metadata": {
    "collapsed": false
   },
   "outputs": [],
   "source": [
    "from "
   ]
  },
  {
   "cell_type": "code",
   "execution_count": null,
   "metadata": {
    "collapsed": false
   },
   "outputs": [],
   "source": [
    "##experimental parameters\n",
    "TR = 2\n",
    "show_hz = 10"
   ]
  },
  {
   "cell_type": "code",
   "execution_count": null,
   "metadata": {
    "collapsed": false
   },
   "outputs": [],
   "source": [
    "base_location= '/Users/tnaselar/Data/Presentation/imagery.rf.7T.July.2014/'\n",
    "save_location = '/musc.repo/scratch/'"
   ]
  },
  {
   "cell_type": "code",
   "execution_count": null,
   "metadata": {
    "collapsed": false
   },
   "outputs": [],
   "source": [
    "run_paths = ['imagery_001/frame_files/']\n",
    "frames_per_TR = TR*show_hz\n",
    "blank_frame = 'rest_frame_0.png'\n",
    "\n",
    "for rr in run_paths:\n",
    "    pcp_frame_file = base_location+rr+'pcp_frame_list.txt'\n",
    "    img_frame_file = base_location+rr+'img_frame_list.txt'\n",
    "\n",
    "    with open(pcp_frame_file) as f:\n",
    "        pcp_frames = f.readlines()\n",
    "    pcp_frames = map(lambda s: s.strip(), pcp_frames) ##strips the \\n off the end of each string\n",
    "    total_pcp_frames = len(pcp_frames)\n",
    "    \n",
    "    with open(img_frame_file) as f:\n",
    "        img_frames = f.readlines()\n",
    "    img_frames = map(lambda s: s.strip(), pcp_frames)\n",
    "    total_img_frames = len(img_frames)\n",
    "    \n",
    "    ##determine the frame associated with each volume\n",
    "    total_number_of_volumes = len(range(0, total_pcp_frames, frames_per_TR)) \n",
    "    print total_number_of_volumes ##<this is what I remember it should be\n",
    "\n",
    "    ##unique list of frames, ordered by first appearance\n",
    "    unique_frames = []\n",
    "    for ff in pcp_frames:\n",
    "        if ff not in unique_frames:\n",
    "            unique_frames.append(ff)\n",
    "    #unique_frames = list(np.unique(pcp_frames))\n",
    "    unique_frames.pop(unique_frames.index(blank_frame)) ##pop the blank frame \n",
    "    number_of_unique_frames = len(unique_frames)\n",
    "\n",
    "    ##build the design matrix\n",
    "    design_matrix = np.zeros((number_of_unique_frames, total_number_of_volumes)) \n",
    "    cnt = 0\n",
    "    for ii in range(0, total_pcp_frames, frames_per_TR):\n",
    "        if pcp_frames[ii] == blank_frame:\n",
    "            cnt += 1\n",
    "            continue\n",
    "        else:\n",
    "            jj = unique_frames.index(pcp_frames[ii])\n",
    "            design_matrix[jj,cnt] = 1\n",
    "            cnt += 1\n",
    "    #savemat(save_location+'design_matrix.mat', mdict = {'design_matrix': design_matrix})"
   ]
  },
  {
   "cell_type": "code",
   "execution_count": null,
   "metadata": {
    "collapsed": false
   },
   "outputs": [],
   "source": [
    "test_exp = fme(design_matrix, [blank_frame]+unique_frames, seconds_per_state, vols_per_state)"
   ]
  }
 ],
 "metadata": {
  "kernelspec": {
   "display_name": "Python 2",
   "language": "python",
   "name": "python2"
  },
  "language_info": {
   "codemirror_mode": {
    "name": "ipython",
    "version": 2
   },
   "file_extension": ".py",
   "mimetype": "text/x-python",
   "name": "python",
   "nbconvert_exporter": "python",
   "pygments_lexer": "ipython2",
   "version": "2.7.10"
  }
 },
 "nbformat": 4,
 "nbformat_minor": 0
}
