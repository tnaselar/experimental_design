{
 "cells": [
  {
   "cell_type": "markdown",
   "metadata": {},
   "source": [
    "###Retinotopy"
   ]
  },
  {
   "cell_type": "code",
   "execution_count": 1,
   "metadata": {
    "collapsed": false
   },
   "outputs": [
    {
     "name": "stdout",
     "output_type": "stream",
     "text": [
      "Populating the interactive namespace from numpy and matplotlib\n"
     ]
    }
   ],
   "source": [
    "from PIL import Image\n",
    "from PIL import ImageDraw as Draw\n",
    "from PIL import ImageFilter\n",
    "from skimage.filter import gaussian_filter\n",
    "import numpy as np\n",
    "from glob import glob\n",
    "from os import path\n",
    "from object_parsing.src.image_objects import make_a_blank\n",
    "import scipy.io as sio\n",
    "\n",
    "%pylab inline"
   ]
  },
  {
   "cell_type": "code",
   "execution_count": 2,
   "metadata": {
    "collapsed": false
   },
   "outputs": [],
   "source": [
    "savedir = '/Users/tnaselar/Data/Presentation/predictive.coding.match.nonmatch/prf_stim/'\n",
    "frames_per_pattern = 2 ##>= 1\n"
   ]
  },
  {
   "cell_type": "code",
   "execution_count": 3,
   "metadata": {
    "collapsed": false
   },
   "outputs": [],
   "source": [
    "import numpy as np, h5py \n",
    "stim_data = h5py.File('/Users/tnaselar/Data/experiments/prfStimuli/stimuli.mat','r') "
   ]
  },
  {
   "cell_type": "code",
   "execution_count": 4,
   "metadata": {
    "collapsed": false
   },
   "outputs": [
    {
     "name": "stdout",
     "output_type": "stream",
     "text": [
      "(100, 3, 768, 768)\n"
     ]
    }
   ],
   "source": [
    "patterns = stim_data.get('patterns')\n",
    "print patterns.shape"
   ]
  },
  {
   "cell_type": "code",
   "execution_count": 5,
   "metadata": {
    "collapsed": false
   },
   "outputs": [
    {
     "name": "stdout",
     "output_type": "stream",
     "text": [
      "768\n"
     ]
    }
   ],
   "source": [
    "masks = stim_data.get('masks')\n",
    "print masks.shape[-1]"
   ]
  },
  {
   "cell_type": "code",
   "execution_count": 6,
   "metadata": {
    "collapsed": false
   },
   "outputs": [],
   "source": [
    "multibarindices = stim_data.get('multibarindices')\n",
    "wedgeringindices = stim_data.get('wedgeringindices')"
   ]
  },
  {
   "cell_type": "code",
   "execution_count": 7,
   "metadata": {
    "collapsed": false
   },
   "outputs": [
    {
     "data": {
      "text/plain": [
       "2580"
      ]
     },
     "execution_count": 7,
     "metadata": {},
     "output_type": "execute_result"
    }
   ],
   "source": [
    "masks.shape[0]"
   ]
  },
  {
   "cell_type": "code",
   "execution_count": 8,
   "metadata": {
    "collapsed": false
   },
   "outputs": [],
   "source": [
    "back_lum = 137\n",
    "background = make_a_blank(masks.shape[-1],back_lum,'RGB')"
   ]
  },
  {
   "cell_type": "code",
   "execution_count": 9,
   "metadata": {
    "collapsed": false
   },
   "outputs": [],
   "source": [
    "def format_pattern(patterns,dx):\n",
    "    return np.transpose(np.rollaxis(patterns[dx,0:,0:,0:].squeeze(),0,start=3),axes = [1,0,2])\n",
    "\n",
    "def format_masks(masks,dx):\n",
    "    return np.transpose(np.rollaxis(masks[dx,0:,0:].squeeze(),0,start=2),axes = [1,0])"
   ]
  },
  {
   "cell_type": "code",
   "execution_count": 10,
   "metadata": {
    "collapsed": false
   },
   "outputs": [
    {
     "name": "stdout",
     "output_type": "stream",
     "text": [
      "(768, 768, 3)\n",
      "(768, 768)\n"
     ]
    }
   ],
   "source": [
    "print format_pattern(patterns,99).shape\n",
    "print format_masks(masks,99).shape"
   ]
  },
  {
   "cell_type": "code",
   "execution_count": 11,
   "metadata": {
    "collapsed": false,
    "scrolled": true
   },
   "outputs": [],
   "source": [
    "##loop over the mask indices, selecting random pattern each iteration\n",
    "n_patterns = patterns.shape[0]\n",
    "n_masks = masks.shape[0]\n",
    "for mdx in range(n_masks,n_masks+1):\n",
    "    if not remainder(mdx,50):\n",
    "        print 'constructing stimuli: %0.6d' %(mdx)\n",
    "    cur_mask = Image.fromarray(format_masks(masks,mdx-1))\n",
    "    pat_dx = permutation(range(n_patterns))[0]\n",
    "    pat = Image.fromarray(format_pattern(patterns, pat_dx),'RGB')\n",
    "    cur_stim = Image.composite(pat,background,cur_mask)\n",
    "    cur_mask.save(savedir+'mask_%0.6d.png' %(mdx))\n",
    "    cur_stim.save(savedir+'stim_%0.6d.png' %(mdx))\n",
    "\n"
   ]
  },
  {
   "cell_type": "code",
   "execution_count": 12,
   "metadata": {
    "collapsed": false
   },
   "outputs": [],
   "source": [
    "background.save(savedir+'stim_%0.6d.png' %(0))"
   ]
  },
  {
   "cell_type": "code",
   "execution_count": 12,
   "metadata": {
    "collapsed": false
   },
   "outputs": [],
   "source": [
    "def print_frame_sequence(frame_sequence,print_to):  #+'movie_'+str(mm))\n",
    "    with open(print_to,'w') as thefile:\n",
    "        for item in frame_sequence:\n",
    "          thefile.write(\"%s\\n\" % item)                "
   ]
  },
  {
   "cell_type": "code",
   "execution_count": 13,
   "metadata": {
    "collapsed": false
   },
   "outputs": [],
   "source": [
    "##bar frame_file\n",
    "bar_list = []\n",
    "for mbx in multibarindices:\n",
    "    bar_list.append('stim_%0.6d.png' %(mbx))\n",
    "print_frame_sequence(bar_list, savedir+'bar_frame_file.txt')\n",
    "\n",
    "##wedge frame\n",
    "wedge_list = []\n",
    "for mwx in wedgeringindices:\n",
    "    wedge_list.append('stim_%0.6d.png' %(mwx))\n",
    "print_frame_sequence(wedge_list,savedir+'wedge_frame_file.txt')"
   ]
  },
  {
   "cell_type": "code",
   "execution_count": null,
   "metadata": {
    "collapsed": false
   },
   "outputs": [],
   "source": []
  },
  {
   "cell_type": "code",
   "execution_count": null,
   "metadata": {
    "collapsed": false
   },
   "outputs": [],
   "source": []
  }
 ],
 "metadata": {
  "kernelspec": {
   "display_name": "Python 2",
   "language": "python",
   "name": "python2"
  },
  "language_info": {
   "codemirror_mode": {
    "name": "ipython",
    "version": 2
   },
   "file_extension": ".py",
   "mimetype": "text/x-python",
   "name": "python",
   "nbconvert_exporter": "python",
   "pygments_lexer": "ipython2",
   "version": "2.7.10"
  }
 },
 "nbformat": 4,
 "nbformat_minor": 0
}
